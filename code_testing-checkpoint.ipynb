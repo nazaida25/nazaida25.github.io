{
 "cells": [
  {
   "cell_type": "code",
   "execution_count": 10,
   "metadata": {},
   "outputs": [
    {
     "name": "stdout",
     "output_type": "stream",
     "text": [
      "{'name': 'Afghanistan', 'alpha-2': 'AF', 'alpha-3': 'AFG', 'country-code': '004', 'iso_3166-2': 'ISO 3166-2:AF', 'region': 'Asia', 'sub-region': 'Southern Asia', 'intermediate-region': '', 'region-code': '142', 'sub-region-code': '034', 'intermediate-region-code': ''}\n"
     ]
    }
   ],
   "source": [
    "import json\n",
    "\n",
    "with open(\"kode_negara_lengkap.json\", \"r\") as read_file:\n",
    "    data = json.load(read_file)\n",
    "# for i in data:\n",
    "#     print(type(i))\n",
    "print(data[0])"
   ]
  },
  {
   "cell_type": "code",
   "execution_count": 7,
   "metadata": {},
   "outputs": [
    {
     "ename": "AttributeError",
     "evalue": "'jsonHandler' object has no attribute 'dataFrame'",
     "output_type": "error",
     "traceback": [
      "\u001b[1;31m---------------------------------------------------------------------------\u001b[0m",
      "\u001b[1;31mAttributeError\u001b[0m                            Traceback (most recent call last)",
      "\u001b[1;32m<ipython-input-7-6dddeb533dad>\u001b[0m in \u001b[0;36m<module>\u001b[1;34m\u001b[0m\n\u001b[0;32m      2\u001b[0m \u001b[1;33m\u001b[0m\u001b[0m\n\u001b[0;32m      3\u001b[0m \u001b[0mjh_\u001b[0m \u001b[1;33m=\u001b[0m \u001b[0mjsonHandler\u001b[0m\u001b[1;33m(\u001b[0m\u001b[1;34m'kode_negara_lengkap.json'\u001b[0m\u001b[1;33m)\u001b[0m\u001b[1;33m\u001b[0m\u001b[1;33m\u001b[0m\u001b[0m\n\u001b[1;32m----> 4\u001b[1;33m \u001b[0mjh_\u001b[0m\u001b[1;33m.\u001b[0m\u001b[0mdataFrame\u001b[0m\u001b[1;33m\u001b[0m\u001b[1;33m\u001b[0m\u001b[0m\n\u001b[0m",
      "\u001b[1;31mAttributeError\u001b[0m: 'jsonHandler' object has no attribute 'dataFrame'"
     ]
    }
   ],
   "source": [
    "from fileHandler import jsonHandler\n",
    "\n",
    "jh_ = jsonHandler('kode_negara_lengkap.json')\n",
    "jh_.dataFrame"
   ]
  },
  {
   "cell_type": "code",
   "execution_count": 1,
   "metadata": {},
   "outputs": [
    {
     "name": "stdout",
     "output_type": "stream",
     "text": [
      "kode_negara\n",
      "tahun\n",
      "produksi\n"
     ]
    }
   ],
   "source": [
    "import pandas as pd\n",
    "import numpy as np\n",
    "\n",
    "df = pd.read_csv('produksi_minyak_mentah.csv')\n",
    "kode_negara = df['kode_negara'].tolist()\n",
    "tahun = df['tahun'].tolist()\n",
    "produksi = df['produksi'].tolist()\n",
    "for i in df : print(i)"
   ]
  }
 ],
 "metadata": {
  "kernelspec": {
   "display_name": "Python 3",
   "language": "python",
   "name": "python3"
  },
  "language_info": {
   "codemirror_mode": {
    "name": "ipython",
    "version": 3
   },
   "file_extension": ".py",
   "mimetype": "text/x-python",
   "name": "python",
   "nbconvert_exporter": "python",
   "pygments_lexer": "ipython3",
   "version": "3.8.5"
  }
 },
 "nbformat": 4,
 "nbformat_minor": 4
}
